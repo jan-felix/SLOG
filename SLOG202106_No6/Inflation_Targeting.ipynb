{
 "cells": [
  {
   "cell_type": "raw",
   "id": "489b607c",
   "metadata": {},
   "source": [
    "---\n",
    "title: \"Whats going on with Inflation expectations\"\n",
    "author: \"Jan Felix\"\n",
    "date: \"24 3 2021\"\n",
    "output: html_document\n",
    "---"
   ]
  },
  {
   "cell_type": "code",
   "execution_count": null,
   "id": "adf5cd69",
   "metadata": {
    "name": "setup",
    "tags": [
     "remove_input"
    ]
   },
   "outputs": [],
   "source": [
    "%%R\n",
    "library(reticulate)\n",
    "library(knitr)\n",
    "opts_chunk$set(message = TRUE, echo = FALSE, warning = TRUE, error = TRUE)"
   ]
  },
  {
   "cell_type": "code",
   "execution_count": null,
   "id": "7a7b3655",
   "metadata": {},
   "outputs": [],
   "source": [
    "import numpy as np\n",
    "import pandas as pd\n",
    "pd.options.mode.chained_assignment = None \n",
    "import matplotlib.pyplot as plt\n",
    "import pandas_datareader as pdr\n",
    "import os\n",
    "import datetime\n",
    "#os.environ['QT_QPA_PLATFORM_PLUGIN_PATH'] = 'C:/Users/user/Anaconda3/Library/plugins/platforms'\n",
    "np.random.seed(seed=1994)"
   ]
  },
  {
   "cell_type": "code",
   "execution_count": null,
   "id": "f98ff368",
   "metadata": {},
   "outputs": [],
   "source": [
    "#Download data with PDR\n",
    "end = datetime.datetime.today()\n",
    "start = datetime.datetime(year=end.year-10, month=end.month, day=end.day)\n",
    "\n",
    "#Fred as standard API\n",
    "symbols = [\"T5YIE\",\"T10YIE\"]\n",
    "fred = pdr.DataReader(symbols, 'fred', start, end)\n",
    "symbols = [\"PCEPI\"]\n",
    "pcepi_index = pdr.DataReader(symbols, 'fred', start, end)\n",
    "pcepi_index.index = pcepi_index.index + pd.offsets.MonthEnd(0) \n",
    "fred = pd.concat([fred, pcepi_index], axis = 1)\n",
    "fred.to_csv(\"fred.csv\")\n",
    "\n",
    "fred = pd.read_csv(\"fred.csv\", index_col = \"DATE\")\n",
    "\n",
    "#Cleanse Data\n",
    "fred.index = pd.DatetimeIndex(fred.index)\n",
    "fred[[\"T5YIE\",\"T10YIE\"]] = fred[[\"T5YIE\",\"T10YIE\"]].interpolate(method = \"linear\")\n",
    "fred = fred.dropna()\n",
    "print(\"Last data point for:\" +str(fred.index[-1]))\n"
   ]
  },
  {
   "cell_type": "code",
   "execution_count": null,
   "id": "0d3e5389",
   "metadata": {},
   "outputs": [],
   "source": [
    "\n",
    "monthly_target = 1.02**(1/12)\n",
    "\n",
    "#5 Years\n",
    "fred5 = fred[[\"PCEPI\",\"T5YIE\"]].tail(60)\n",
    "fred5[\"Target\"] = 100\n",
    "\n",
    "target5_loc = fred5.columns.get_loc(\"Target\")\n",
    "for i in range(1,len(fred5.index)):\n",
    "  fred5.iloc[i,target5_loc] = fred5.iloc[i-1,target5_loc]*monthly_target\n",
    "\n",
    "fred5[\"PCEPI\"] = 100* fred5[\"PCEPI\"]/fred5[\"PCEPI\"][0]\n",
    "fred5[\"Shortfall\"] = fred5[\"Target\"] - fred5[\"PCEPI\"]\n",
    "\n",
    "fred[\"Target\"] = 100\n",
    "#10 Years\n",
    "target_loc = fred.columns.get_loc(\"Target\")\n",
    "for i in range(1,len(fred.index)):\n",
    "  fred.iloc[i,target_loc] = fred.iloc[i-1,target_loc]*monthly_target\n",
    "\n",
    "fred[\"PCEPI\"] = 100* fred[\"PCEPI\"]/fred[\"PCEPI\"][0]\n",
    "fred[\"Shortfall\"] = fred[\"Target\"] - fred[\"PCEPI\"]"
   ]
  },
  {
   "cell_type": "markdown",
   "id": "e67ec6ef",
   "metadata": {},
   "source": [
    "# New Fed framework & Covid - their impact on Breakevens\n",
    "\n",
    "Last autumn, the Fed revealed that they would aim to overshoot inflation in the future to make up for the years inflation was below 2%. This is interesting because it means that the target for inflation in the next years will be partially dictated by the inflation we had in the past. Below, I quantify the shortfall of inflation in the last 5 years and 10 years and take compute the inflation that would be necessary to meet an average of 2% inflation looking 5 years and 10 years ahead. This allows a comparison between what the Fed wishes to do and what the market things the Fed will achieve.\n",
    "\n",
    "Looking at the chained Personal Consumption Expenditure Index ([PCEPI](https://fred.stlouisfed.org/series/PCEPI), see Bullard's explanation [here](https://www.stlouisfed.org/publications/regional-economist/july-2013/cpi-vs-pce-inflation--choosing-a-standard-measure)) we see that inflation feel short both over the short five year and longer ten year horizon against a target of 2% pa."
   ]
  },
  {
   "cell_type": "code",
   "execution_count": null,
   "id": "b8392608",
   "metadata": {},
   "outputs": [],
   "source": [
    "fig, axs = plt.subplots(nrows = 2,ncols = 2,sharex=\"col\")\n",
    "fig.suptitle(\"Previous 5,10 Years Realized vs Targeted Inflation and Cumulative Shortfall\")\n",
    "\n",
    "axs[0,0].plot(fred5[\"PCEPI\"],label = \"PCEPI\")\n",
    "axs[0,0].plot(fred5[\"Target\"],label = \"Target\")\n",
    "axs[0,0].grid(True)\n",
    "axs[0,0].legend(loc=\"upper left\")\n",
    "axs[1,0].plot(fred5[\"Shortfall\"],label = \"Inflation Shortfall\")\n",
    "axs[1,0].grid(True)\n",
    "axs[1,0].legend(loc=\"upper left\")\n",
    "\n",
    "axs[0,1].plot(fred[\"PCEPI\"],label = \"PCEPI\")\n",
    "axs[0,1].plot(fred[\"Target\"],label = \"Target\")\n",
    "axs[0,1].grid(True)\n",
    "axs[0,1].legend(loc=\"upper left\")\n",
    "axs[1,1].plot(fred[\"Shortfall\"],label = \"Inflation Shortfall\")\n",
    "axs[1,1].grid(True)\n",
    "axs[1,1].legend(loc=\"upper left\")\n",
    "\n",
    "#fig.tight_layout()\n",
    "fig.autofmt_xdate()\n",
    "plt.show()"
   ]
  },
  {
   "cell_type": "code",
   "execution_count": null,
   "id": "db9439b7",
   "metadata": {},
   "outputs": [],
   "source": [
    "next_month = fred.index[-1]+pd.DateOffset(months=1)\n",
    "\n",
    "#5 Year\n",
    "future_index5 = pd.date_range(start = next_month, end = datetime.datetime(year=fred.index[-1].year+5, month=fred.index[-1].month, day=fred.index[-1].day), freq=\"MS\")\n",
    "future_index = pd.date_range(start = next_month, end = datetime.datetime(year=fred.index[-1].year+10, month=fred.index[-1].month, day=fred.index[-1].day), freq=\"MS\")\n",
    "\n",
    "target_future5 = fred5[\"Target\"][-1]*monthly_target**60\n",
    "target_future = fred[\"Target\"][-1]*monthly_target**120\n",
    "\n",
    "PCEPI_now5 = fred5[\"PCEPI\"][-1]\n",
    "PCEPI_now = fred[\"PCEPI\"][-1]\n",
    "necessary_rate5 = (target_future5/PCEPI_now5)**(1/60)\n",
    "necessary_rate = (target_future/PCEPI_now)**(1/120)\n",
    "\n",
    "PCEPI_necessary5 = [PCEPI_now5]\n",
    "target_future_list5 = [fred5[\"Target\"][-1]]\n",
    "for i in range(1,60):\n",
    "  PCEPI_necessary5.append(PCEPI_necessary5[i-1]*necessary_rate5)\n",
    "  target_future_list5.append(target_future_list5[i-1]*monthly_target)\n",
    "\n",
    "#10 Year\n",
    "PCEPI_necessary = [PCEPI_now]\n",
    "target_future_list = [fred[\"Target\"][-1]]\n",
    "for i in range(1,120):\n",
    "  PCEPI_necessary.append(PCEPI_necessary[i-1]*necessary_rate)\n",
    "  target_future_list.append(target_future_list[i-1]*monthly_target)\n",
    "\n",
    "future_df5 = pd.DataFrame({\"PCEPI\":PCEPI_necessary5[1:],\"Target\":target_future_list5[1:]}, index = future_index5)\n",
    "future_df = pd.DataFrame({\"PCEPI\":PCEPI_necessary[1:],\"Target\":target_future_list[1:]}, index = future_index)\n",
    "\n",
    "combined_df5 = pd.concat([fred5,future_df5])\n",
    "combined_df5[\"Shortfall\"] = combined_df5[\"Target\"] - combined_df5[\"PCEPI\"]\n",
    "\n",
    "combined_df = pd.concat([fred,future_df])\n",
    "combined_df[\"Shortfall\"] = combined_df[\"Target\"] - combined_df[\"PCEPI\"]"
   ]
  },
  {
   "cell_type": "markdown",
   "id": "7e1f6dbd",
   "metadata": {},
   "source": [
    "If we assume that the Fed will want to reach an average of 2% inflation over either the next 5 years (so 2% over 10 years) or over the next 10 years (so 2% over 20 years), we can calculate the necessary inflation rate to achieve this target. Below, I take the same data as shown above, but add 5, 10 years in which inflation is held constant such that by the end of the period the Fed has achieved an average of 2% inflation."
   ]
  },
  {
   "cell_type": "code",
   "execution_count": null,
   "id": "563ad92a",
   "metadata": {},
   "outputs": [],
   "source": [
    "\n",
    "fig, axs = plt.subplots(nrows = 2,ncols = 2,sharex=\"col\")\n",
    "fig.suptitle(\"Inflation vs Policy Goals 5y, 10y\")\n",
    "\n",
    "axs[0,0].plot(combined_df5[\"PCEPI\"],label = \"Realized, necessary PCEPI\")\n",
    "axs[0,0].plot(combined_df5[\"Target\"],label = \"Target\")\n",
    "axs[0,0].grid(True)\n",
    "axs[0,0].legend(loc=\"lower right\", framealpha=0.5)\n",
    "\n",
    "axs[1,0].plot(combined_df5[\"Shortfall\"],label = \"Inflation Shortfall\")\n",
    "axs[1,0].grid(True)\n",
    "axs[1,0].legend(loc=\"lower right\",framealpha=0.5)\n",
    "\n",
    "axs[0,1].plot(combined_df[\"PCEPI\"],label = \"Realized, necessary PCEPI\")\n",
    "axs[0,1].plot(combined_df[\"Target\"],label = \"Target\")\n",
    "axs[0,1].grid(True)\n",
    "axs[0,1].legend(loc=\"lower right\", framealpha=0.5)\n",
    "\n",
    "axs[1,1].plot(combined_df[\"Shortfall\"],label = \"Inflation Shortfall\")\n",
    "axs[1,1].grid(True)\n",
    "axs[1,1].legend(loc=\"lower right\",framealpha=0.5)\n",
    "fig.autofmt_xdate()\n",
    "#fig.tight_layout()\n",
    "plt.show()"
   ]
  },
  {
   "cell_type": "markdown",
   "id": "541f6edf",
   "metadata": {},
   "source": [
    "This raises the question: Does the market believe that the Fed will achieve the goal over the next five or even ten years? Below, I therefore add to the plot the inflation path that markets where pricing when the last PCE data came out `r tail(rownames(py$fred5),1)`.\n",
    "\n",
    "At the end of February, 5yr break-evens were priced so that it seemed like the market believed the Fed would almost, but not quite achieve its goal over the next 10 years. As of end of March, markets were expecting to overshoot the Feds target over 5 years by almost as much as it was expecting to undershoot it during the height of Covid.\n",
    "\n",
    "This is *before* we take into account recent data int the week 10th to 16th of May.\n",
    "\n",
    "However, this is still seen as transitory. In the long run, markets still expect the Fed to fall short as implied by the 10 year breakevens."
   ]
  },
  {
   "cell_type": "code",
   "execution_count": null,
   "id": "fa2df08d",
   "metadata": {},
   "outputs": [],
   "source": [
    "\n",
    "combined_df5[\"PCEPI_Implied\"] = PCEPI_now5\n",
    "\n",
    "CEPI_implied5_loc = combined_df5.columns.get_loc(\"PCEPI_Implied\")\n",
    "last_breakeven5 = (1+fred5[\"T5YIE\"][-1]/100)**(1/12)\n",
    "\n",
    "for i in range(len(fred5.index),len(combined_df5.index)):\n",
    "  combined_df5.iloc[i,CEPI_implied5_loc] = combined_df5.iloc[i-1,CEPI_implied5_loc]*last_breakeven5\n",
    "\n",
    "combined_df5[\"PCEPI_Implied\"][0:len(fred5.index)] = None\n",
    "combined_df5[\"Implied_Shortfall\"] = combined_df5[\"Target\"] - combined_df5[\"PCEPI_Implied\"]\n",
    "\n",
    "combined_df[\"PCEPI_Implied\"] = PCEPI_now\n",
    "\n",
    "CEPI_implied_loc = combined_df.columns.get_loc(\"PCEPI_Implied\")\n",
    "last_breakeven10 = (1+fred[\"T10YIE\"][-1]/100)**(1/12)\n",
    "\n",
    "for i in range(len(fred.index),len(combined_df.index)):\n",
    "  combined_df.iloc[i,CEPI_implied_loc] = combined_df.iloc[i-1,CEPI_implied_loc]*last_breakeven10\n",
    "\n",
    "combined_df[\"PCEPI_Implied\"][0:len(fred.index)] = None\n",
    "combined_df[\"Implied_Shortfall\"] = combined_df[\"Target\"] - combined_df[\"PCEPI_Implied\"]"
   ]
  },
  {
   "cell_type": "code",
   "execution_count": null,
   "id": "da74c7d3",
   "metadata": {},
   "outputs": [],
   "source": [
    "fig, axs = plt.subplots(nrows = 2,ncols = 2,sharex=\"col\")\n",
    "fig.suptitle(\"Next 5, 10 Years Necessary vs Targeted Inflation and Cumulative Shortfall\")\n",
    "\n",
    "axs[0,0].plot(combined_df5[\"PCEPI\"],label = \"Realized, later necessary PCEPI\")\n",
    "axs[0,0].plot(combined_df5[\"Target\"],label = \"Target\")\n",
    "axs[0,0].plot(combined_df5[\"PCEPI_Implied\"],label = \"5Y BE Implied\")\n",
    "axs[0,0].grid(True)\n",
    "axs[0,0].legend(loc=\"lower left\")\n",
    "\n",
    "axs[1,0].plot(combined_df5[\"Shortfall\"],label = \"Shortfall, given target met\")\n",
    "axs[1,0].plot(combined_df5[\"Implied_Shortfall\"],label = \"Implied Shortfall\")\n",
    "axs[1,0].grid(True)\n",
    "axs[1,0].legend(loc=\"lower left\",framealpha=0.5)\n",
    "\n",
    "axs[0,1].plot(combined_df[\"PCEPI\"],label = \"Realized, later necessary PCEPI\")\n",
    "axs[0,1].plot(combined_df[\"Target\"],label = \"Target\")\n",
    "axs[0,1].plot(combined_df[\"PCEPI_Implied\"],label = \"10Y BE Implied\")\n",
    "axs[0,1].grid(True)\n",
    "axs[0,1].legend(loc=\"lower left\")\n",
    "\n",
    "axs[1,1].plot(combined_df[\"Shortfall\"],label = \"Shortfall, given target met\")\n",
    "axs[1,1].plot(combined_df[\"Implied_Shortfall\"],label = \"Implied Shortfall\")\n",
    "axs[1,1].grid(True)\n",
    "axs[1,1].legend(loc=\"lower left\",framealpha=0.5)\n",
    "\n",
    "fig.autofmt_xdate()\n",
    "#fig.tight_layout()\n",
    "plt.show()"
   ]
  },
  {
   "cell_type": "markdown",
   "id": "3d085e97",
   "metadata": {},
   "source": [
    "Comparing the actually expected vs. necessary inflation numbers, we can even see that the ten year inflation expectations are not only lower than they would be if people believed the Fed would be able (or would want to) hit their inflation target, they are even lower than the five year inflation expectations."
   ]
  },
  {
   "cell_type": "code",
   "execution_count": null,
   "id": "2814fcb8",
   "metadata": {},
   "outputs": [],
   "source": [
    "\n",
    "five_year = [fred5[\"T5YIE\"][-1],((necessary_rate5**12)-1)*100]\n",
    "ten_year = [fred[\"T10YIE\"][-1],((necessary_rate**12)-1)*100]\n",
    "\n",
    "fig, axs = plt.subplots(nrows = 1,ncols = 2,sharey=\"row\")\n",
    "fig.suptitle(\"Next 5, 10 Years Necessary vs Expected Inflation as of: \"+str(fred.index[-1]))\n",
    "\n",
    "axs[0].bar([\"5y Breakeven \\n\"+\"currently: \"+str(round(five_year[0],2)),\"Necessary Inflation:\\n \"+str(round(five_year[1],2))],five_year)\n",
    "axs[0].grid(True)\n",
    "axs[0].title.set_text('5 Year')\n",
    "\n",
    "axs[1].bar([\"10y Breakeven \\n\"+\"currently: \"+str(round(ten_year[0],2)),\"Necessary Inflation: \\n\"+str(round(ten_year[1],2))],ten_year)\n",
    "axs[1].grid(True)\n",
    "axs[1].title.set_text('10 Year')\n",
    "\n",
    "#fig.tight_layout()\n",
    "plt.show()"
   ]
  },
  {
   "cell_type": "markdown",
   "id": "4c4b64d5",
   "metadata": {},
   "source": [
    "This raises an interesting question about inflation expectations more generally. Looking at historical breakevens for five years, 10 years and the 5y5y forward implied rate, we can actually see that having lower 5 year expectations than 10 year expectations is quite a novel feature. And this difference has only changed very recently."
   ]
  },
  {
   "cell_type": "code",
   "execution_count": null,
   "id": "702a22a2",
   "metadata": {},
   "outputs": [],
   "source": [
    "start = datetime.datetime(year=end.year-20, month=end.month, day=end.day)\n",
    "#symbols = [\"T5YIE\",\"T5YIFR\",\"T10YIE\"]\n",
    "#fred_1= pdr.DataReader(symbols, 'fred', start, end)\n",
    "#fred_1.to_csv(\"fred_1.csv\")\n",
    "fred = pd.read_csv(\"fred_1.csv\", index_col = \"DATE\")\n",
    "fred.index = pd.DatetimeIndex(fred.index)\n",
    "fred[\"Target\"] = 2\n",
    "five_five_vs_five = fred[\"T5YIE\"]-fred[\"T5YIFR\"]\n"
   ]
  },
  {
   "cell_type": "code",
   "execution_count": null,
   "id": "91a71e6d",
   "metadata": {},
   "outputs": [],
   "source": [
    "fred.plot(title = \"US Breakevens\")\n",
    "plt.show()"
   ]
  },
  {
   "cell_type": "markdown",
   "id": "2770565b",
   "metadata": {},
   "source": [
    "Below, I zoom into the time since 2020. Very interestingly the difference between inflation expectations decreased as their overall level increased in H2 2020, but it was only on the 7th of January 2021, 2 days after the Georgia elections, that this relationship turned around for the first time in over 10 years."
   ]
  },
  {
   "cell_type": "code",
   "execution_count": null,
   "id": "5f29cb9b",
   "metadata": {},
   "outputs": [],
   "source": [
    "\n",
    "fig, axs = plt.subplots(2,1,sharex=\"col\")\n",
    "fig.suptitle(\"Structure of Inflation Expectation changed in January 2021\")\n",
    "\n",
    "axs[0].plot(fred[\"2020-01-01\":])\n",
    "axs[0].legend(labels = [\"5y BE\", \"5y5y BE\",\"10y BE\"])\n",
    "axs[1].plot(five_five_vs_five[\"2020-01-01\":])\n",
    "axs[1].legend([\"Difference 5y BE - 5y5y BE\"])\n",
    "axs[0].grid(True)\n",
    "axs[1].grid(True)\n",
    "fig.autofmt_xdate()\n",
    "#fig.tight_layout()\n",
    "plt.show()\n"
   ]
  },
  {
   "cell_type": "markdown",
   "id": "8fe94d15",
   "metadata": {},
   "source": [
    "As one would expect, the recent increase in medium-term inflation expectations had also had its impact on Fed expectations, with a hike in June being now (actually as of 16.05., so 6 weeks after last data I used in above analysis) priced at 10%.\n",
    "\n",
    "<https://www.cmegroup.com/trading/interest-rates/countdown-to-fomc.html>\n",
    "\n",
    "Possible next step:\n",
    "\n",
    "-\\> get more available data by using PPI and CPI to get to PCE estimate"
   ]
  }
 ],
 "metadata": {
  "jupytext": {
   "cell_metadata_filter": "tags,name,-all",
   "main_language": "python",
   "notebook_metadata_filter": "-all"
  }
 },
 "nbformat": 4,
 "nbformat_minor": 5
}
