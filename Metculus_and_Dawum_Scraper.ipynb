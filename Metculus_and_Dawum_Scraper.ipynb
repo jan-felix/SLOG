{
  "nbformat": 4,
  "nbformat_minor": 0,
  "metadata": {
    "colab": {
      "name": "Metculus and Dawum Scraper.ipynb",
      "provenance": [],
      "collapsed_sections": [],
      "toc_visible": true,
      "authorship_tag": "ABX9TyPCHC2sBXH1ro2u/e3S+N0m",
      "include_colab_link": true
    },
    "kernelspec": {
      "name": "python3",
      "display_name": "Python 3"
    },
    "language_info": {
      "name": "python"
    }
  },
  "cells": [
    {
      "cell_type": "markdown",
      "metadata": {
        "id": "view-in-github",
        "colab_type": "text"
      },
      "source": [
        "<a href=\"https://colab.research.google.com/github/jan-felix/SLOG/blob/master/Metculus_and_Dawum_Scraper.ipynb\" target=\"_parent\"><img src=\"https://colab.research.google.com/assets/colab-badge.svg\" alt=\"Open In Colab\"/></a>"
      ]
    },
    {
      "cell_type": "code",
      "metadata": {
        "colab": {
          "base_uri": "https://localhost:8080/"
        },
        "id": "2-CT-g0DR4Hm",
        "outputId": "56fbf329-5206-4ac7-f899-2006890ed89a"
      },
      "source": [
        " \n",
        "!pip install --progress-bar off --quiet poetry\n",
        "!pip install --progress-bar off --quiet git+https://github.com/oughtinc/ergo.git\n",
        "import os\n",
        "os._exit(00)"
      ],
      "execution_count": null,
      "outputs": [
        {
          "output_type": "stream",
          "text": [
            "\u001b[?25l\n",
            "\u001b[?25h\u001b[?25l\n",
            "\u001b[?25h\u001b[?25l\n",
            "\u001b[?25h\u001b[?25l\n",
            "\u001b[?25h\u001b[?25l\n",
            "\u001b[?25h\u001b[?25l\n",
            "\u001b[?25h\u001b[?25l\n",
            "\u001b[?25h\u001b[?25l\n",
            "\u001b[?25h  Installing build dependencies ... \u001b[?25l\u001b[?25hdone\n",
            "  Getting requirements to build wheel ... \u001b[?25l\u001b[?25hdone\n",
            "    Preparing wheel metadata ... \u001b[?25l\u001b[?25hdone\n",
            "\u001b[?25l\n",
            "\u001b[?25h\u001b[?25l\n",
            "\u001b[?25h\u001b[?25l\n",
            "\u001b[?25h\u001b[?25l\n",
            "\u001b[?25h\u001b[?25l\n",
            "\u001b[?25h\u001b[?25l\n",
            "\u001b[?25h\u001b[?25l\n",
            "\u001b[?25h\u001b[?25l\n",
            "\u001b[?25h\u001b[?25l\n",
            "\u001b[?25h\u001b[?25l\n",
            "\u001b[?25h\u001b[?25l\n",
            "\u001b[?25h\u001b[?25l\n",
            "\u001b[?25h\u001b[?25l\n",
            "\u001b[?25h\u001b[?25l\n",
            "\u001b[?25h  Building wheel for ergo (PEP 517) ... \u001b[?25l\u001b[?25hdone\n",
            "  Building wheel for numpyro (setup.py) ... \u001b[?25l\u001b[?25hdone\n",
            "  Building wheel for country-converter (setup.py) ... \u001b[?25l\u001b[?25hdone\n",
            "  Building wheel for jax (setup.py) ... \u001b[?25l\u001b[?25hdone\n",
            "\u001b[31mERROR: google-colab 1.0.0 has requirement pandas~=1.1.0; python_version >= \"3.0\", but you'll have pandas 1.0.3 which is incompatible.\u001b[0m\n",
            "\u001b[31mERROR: google-colab 1.0.0 has requirement requests~=2.23.0, but you'll have requests 2.21.0 which is incompatible.\u001b[0m\n",
            "\u001b[31mERROR: fbprophet 0.7.1 has requirement pandas>=1.0.4, but you'll have pandas 1.0.3 which is incompatible.\u001b[0m\n",
            "\u001b[31mERROR: datascience 0.10.6 has requirement folium==0.2.1, but you'll have folium 0.8.3 which is incompatible.\u001b[0m\n",
            "\u001b[31mERROR: arviz 0.11.2 has requirement typing-extensions<4,>=3.7.4.3, but you'll have typing-extensions 3.7.4.2 which is incompatible.\u001b[0m\n",
            "\u001b[31mERROR: albumentations 0.1.12 has requirement imgaug<0.2.7,>=0.2.5, but you'll have imgaug 0.2.9 which is incompatible.\u001b[0m\n"
          ],
          "name": "stdout"
        }
      ]
    },
    {
      "cell_type": "code",
      "metadata": {
        "id": "R-56waqS-6oL",
        "colab": {
          "base_uri": "https://localhost:8080/"
        },
        "outputId": "b2c9ced5-02ec-46ab-8c73-be47fb2bf08a"
      },
      "source": [
        "import pandas as pd\n",
        "import ergo\n",
        "import numpy as np\n",
        "import matplotlib.pyplot as plt\n",
        "from bs4 import BeautifulSoup\n",
        "import requests"
      ],
      "execution_count": 1,
      "outputs": [
        {
          "output_type": "stream",
          "text": [
            "/usr/local/lib/python3.7/dist-packages/ergo/ppl.py:15: TqdmExperimentalWarning: Using `tqdm.autonotebook.tqdm` in notebook mode. Use `tqdm.tqdm` instead to force console mode (e.g. in jupyter console)\n",
            "  from tqdm.autonotebook import tqdm\n",
            "/usr/local/lib/python3.7/dist-packages/statsmodels/tools/_testing.py:19: FutureWarning: pandas.util.testing is deprecated. Use the functions in the public API at pandas.testing instead.\n",
            "  import pandas.util.testing as tm\n"
          ],
          "name": "stderr"
        }
      ]
    },
    {
      "cell_type": "code",
      "metadata": {
        "id": "oYHLd_UWSDlV"
      },
      "source": [
        "metaculus = ergo.Metaculus()"
      ],
      "execution_count": 2,
      "outputs": []
    },
    {
      "cell_type": "markdown",
      "metadata": {
        "id": "KRmrwrBy_qjL"
      },
      "source": [
        "# Get Predictions"
      ]
    },
    {
      "cell_type": "code",
      "metadata": {
        "id": "c0ZZ5K0YVH_J",
        "colab": {
          "base_uri": "https://localhost:8080/",
          "height": 525
        },
        "outputId": "4d57a967-d5d7-4cb8-f6cc-7699b4266bba"
      },
      "source": [
        "my_pred = 0.5\n",
        "question_id = 6338\n",
        "question_name = \"CDU governs Germany after the 2021 elections\"\n",
        "#def metaculus_question_plot(question_id,question_name,my_pred):\n",
        " \n",
        "binary=\"yes\"\n",
        " \n",
        "#Retrieve and Format Data\n",
        "question = metaculus.get_question(question_id, name=question_name)\n",
        "title = question.data[\"title\"]\n",
        "n_predictions = question.data[\"number_of_predictions\"]\n",
        "data_hist = question.data[\"prediction_histogram\"]\n",
        " \n",
        "data_ts = pd.DataFrame(question.data[\"prediction_timeseries\"])\n",
        "data_ts.index = pd.to_datetime(data_ts[\"t\"],unit=\"s\")\n",
        "data_ts.index = pd.DatetimeIndex(data_ts.index.strftime('%Y-%m-%d'))\n",
        "data_ts.index.name = None\n",
        "data_ts = data_ts.drop(columns=\"t\")\n",
        "data_ts = data_ts.groupby(data_ts.index).last()\n",
        " \n",
        "hist_dist = pd.DataFrame(data_ts[\"distribution\"].tolist())\n",
        "hist_dist = hist_dist.drop(columns = \"num\")\n",
        "hist_dist.index = data_ts.index\n",
        "hist_dist = hist_dist.groupby(hist_dist.index).last()\n",
        " \n",
        "data_ts[\"Upper90\"] = 1.65*hist_dist[\"var\"]+data_ts[\"community_prediction\"]\n",
        "data_ts[\"Lower90\"] = -1.65*hist_dist[\"var\"]+data_ts[\"community_prediction\"]\n",
        " \n",
        "fig, axs = plt.subplots(2,1,figsize =(8,8),sharex=True)\n",
        "fig.suptitle(question_name)\n",
        "axs[0].plot(data_ts[\"community_prediction\"])\n",
        "axs[0].fill_between(data_ts[\"community_prediction\"].index, data_ts[\"Lower90\"], data_ts[\"Upper90\"], color='b', alpha=.1)\n",
        "axs[0].grid()\n",
        "axs[0].axhline(my_pred, linewidth=3, color='r')\n",
        "axs[1].plot(hist_dist[\"var\"])\n",
        "axs[1].grid()\n",
        "fig.autofmt_xdate()"
      ],
      "execution_count": 3,
      "outputs": [
        {
          "output_type": "display_data",
          "data": {
            "image/png": "[encoded data removed]",
            "text/plain": [
              "<Figure size 576x576 with 2 Axes>"
            ]
          },
          "metadata": {
            "tags": [],
            "needs_background": "light"
          }
        }
      ]
    },
    {
      "cell_type": "markdown",
      "metadata": {
        "id": "L_dAO9fh_kI6"
      },
      "source": [
        "# Get recent Dawum Data"
      ]
    },
    {
      "cell_type": "code",
      "metadata": {
        "colab": {
          "base_uri": "https://localhost:8080/",
          "height": 225
        },
        "id": "_upfXP9n_TqJ",
        "outputId": "b3a75f59-78d4-48c1-a760-225d53b9c73b"
      },
      "source": [
        "table_dawum_verlauf = pd.read_html('https://dawum.de/Bundestag/#Umfrageverlauf')\n",
        "recent_polls = pd.DataFrame(table_dawum_verlauf[0]).set_index(0).dropna(axis=1)\n",
        "recent_polls.columns = [\"Current\",\"Change\"]\n",
        "recent_polls.index.name = None\n",
        "recent_polls"
      ],
      "execution_count": 4,
      "outputs": [
        {
          "output_type": "execute_result",
          "data": {
            "text/html": [
              "<div>\n",
              "<style scoped>\n",
              "    .dataframe tbody tr th:only-of-type {\n",
              "        vertical-align: middle;\n",
              "    }\n",
              "\n",
              "    .dataframe tbody tr th {\n",
              "        vertical-align: top;\n",
              "    }\n",
              "\n",
              "    .dataframe thead th {\n",
              "        text-align: right;\n",
              "    }\n",
              "</style>\n",
              "<table border=\"1\" class=\"dataframe\">\n",
              "  <thead>\n",
              "    <tr style=\"text-align: right;\">\n",
              "      <th></th>\n",
              "      <th>Current</th>\n",
              "      <th>Change</th>\n",
              "    </tr>\n",
              "  </thead>\n",
              "  <tbody>\n",
              "    <tr>\n",
              "      <th>Grüne</th>\n",
              "      <td>25,4%</td>\n",
              "      <td>(+0,1)</td>\n",
              "    </tr>\n",
              "    <tr>\n",
              "      <th>CDU/CSU</th>\n",
              "      <td>24,7%</td>\n",
              "      <td>(−0,4)</td>\n",
              "    </tr>\n",
              "    <tr>\n",
              "      <th>SPD</th>\n",
              "      <td>14,9%</td>\n",
              "      <td>(+0,2)</td>\n",
              "    </tr>\n",
              "    <tr>\n",
              "      <th>FDP</th>\n",
              "      <td>11,3%</td>\n",
              "      <td>(+0,1)</td>\n",
              "    </tr>\n",
              "    <tr>\n",
              "      <th>AfD</th>\n",
              "      <td>10,4%</td>\n",
              "      <td>(+0,1)</td>\n",
              "    </tr>\n",
              "    <tr>\n",
              "      <th>Linke</th>\n",
              "      <td>6,9%</td>\n",
              "      <td>(+0,1)</td>\n",
              "    </tr>\n",
              "  </tbody>\n",
              "</table>\n",
              "</div>"
            ],
            "text/plain": [
              "        Current  Change\n",
              "Grüne     25,4%  (+0,1)\n",
              "CDU/CSU   24,7%  (−0,4)\n",
              "SPD       14,9%  (+0,2)\n",
              "FDP       11,3%  (+0,1)\n",
              "AfD       10,4%  (+0,1)\n",
              "Linke      6,9%  (+0,1)"
            ]
          },
          "metadata": {
            "tags": []
          },
          "execution_count": 4
        }
      ]
    },
    {
      "cell_type": "code",
      "metadata": {
        "colab": {
          "base_uri": "https://localhost:8080/",
          "height": 195
        },
        "id": "8D5bH-5EA0Rz",
        "outputId": "ae759968-36c3-4227-cc48-036a3ef63466"
      },
      "source": [
        "meta_poll_data = pd.DataFrame(table_dawum_verlauf[1]).set_index(0)\n",
        "meta_poll_data.columns = [\"Value\"]\n",
        "meta_poll_data.index.name = None\n",
        "meta_poll_data"
      ],
      "execution_count": 5,
      "outputs": [
        {
          "output_type": "execute_result",
          "data": {
            "text/html": [
              "<div>\n",
              "<style scoped>\n",
              "    .dataframe tbody tr th:only-of-type {\n",
              "        vertical-align: middle;\n",
              "    }\n",
              "\n",
              "    .dataframe tbody tr th {\n",
              "        vertical-align: top;\n",
              "    }\n",
              "\n",
              "    .dataframe thead th {\n",
              "        text-align: right;\n",
              "    }\n",
              "</style>\n",
              "<table border=\"1\" class=\"dataframe\">\n",
              "  <thead>\n",
              "    <tr style=\"text-align: right;\">\n",
              "      <th></th>\n",
              "      <th>Value</th>\n",
              "    </tr>\n",
              "  </thead>\n",
              "  <tbody>\n",
              "    <tr>\n",
              "      <th>Durchschnitt:</th>\n",
              "      <td>7 Wahlumfragen</td>\n",
              "    </tr>\n",
              "    <tr>\n",
              "      <th>Gewichtung:</th>\n",
              "      <td>letzter Befragungstag</td>\n",
              "    </tr>\n",
              "    <tr>\n",
              "      <th>Veröffentlichung:</th>\n",
              "      <td>30.04. - 12.05.</td>\n",
              "    </tr>\n",
              "    <tr>\n",
              "      <th>Befragte:</th>\n",
              "      <td>20606</td>\n",
              "    </tr>\n",
              "    <tr>\n",
              "      <th>Vergleich:</th>\n",
              "      <td>zum 05.05.</td>\n",
              "    </tr>\n",
              "  </tbody>\n",
              "</table>\n",
              "</div>"
            ],
            "text/plain": [
              "                                   Value\n",
              "Durchschnitt:             7 Wahlumfragen\n",
              "Gewichtung:        letzter Befragungstag\n",
              "Veröffentlichung:        30.04. - 12.05.\n",
              "Befragte:                          20606\n",
              "Vergleich:                    zum 05.05."
            ]
          },
          "metadata": {
            "tags": []
          },
          "execution_count": 5
        }
      ]
    },
    {
      "cell_type": "markdown",
      "metadata": {
        "id": "QZOKLtBH_dDB"
      },
      "source": [
        "# Scrape Dawum Chronik"
      ]
    },
    {
      "cell_type": "code",
      "metadata": {
        "id": "n0OgNUf2GN3V"
      },
      "source": [
        "URL = 'https://dawum.de/Bundestag/#Vergleich_mit_Wahlergebnis'\n",
        "page = requests.get(URL)\n",
        "#Get Soup\n",
        "soup = BeautifulSoup(page.content, 'html.parser')\n",
        "chronik = soup.find(id=\"Chronik\")\n",
        "table = chronik.find(\"div\",attrs={\"class\": \"table\"})\n",
        "#Create Table\n",
        "df = pd.DataFrame()\n",
        "rows = table.findAll(\"a\")\n",
        "table_list = []\n",
        "for row in rows: \n",
        "  cols = row.findAll(\"div\")\n",
        "  row_list = []\n",
        "  for div in cols:\n",
        "    row_list.append(div.get_text())\n",
        "  table_list.append(row_list)\n",
        " \n",
        "#Format Data \n",
        "rawr_data = pd.DataFrame(table_list)\n",
        "dates = rawr_data[0].str[0:10]\n",
        "institute =rawr_data[0].str[10:]\n",
        " \n",
        "rawr_data.columns = [\"Institute\",\"Union\",\"Greens\",\"SPD\",\"AFD\",\"FDP\",\"Linke\",\"Freie Wähler\",\"Sonstige\"]\n",
        " \n",
        "institute = institute.str.replace('\\xad', '') \n",
        "institute = [s.strip() for s in institute]\n",
        "rawr_data[\"Institute\"] = institute\n",
        "\n",
        "rawr_data.index = pd.DatetimeIndex(pd.to_datetime(dates, dayfirst = True))\n",
        "rawr_data.index.name = None\n",
        "rawr_data.drop(\"Freie Wähler\", axis=1)\n",
        "cols = [\"Union\",\"Greens\",\"SPD\",\"AFD\",\"FDP\",\"Linke\",\"Sonstige\"]\n",
        "rawr_data[cols] = rawr_data[cols].apply(lambda x: x.str.replace(',', '.').astype(float), axis=1)\n",
        "rawr_data = rawr_data.sort_index()\n",
        "\n",
        "rawr_data = rawr_data.ewm(halflife = 3).mean()\n"
      ],
      "execution_count": 6,
      "outputs": []
    },
    {
      "cell_type": "code",
      "metadata": {
        "colab": {
          "base_uri": "https://localhost:8080/",
          "height": 288
        },
        "id": "W4cTI9KowSR8",
        "outputId": "0d689bb7-fb18-4197-c623-b8ffbb5fa2a9"
      },
      "source": [
        "rawr_data[\"Union\"].plot()"
      ],
      "execution_count": 8,
      "outputs": [
        {
          "output_type": "execute_result",
          "data": {
            "text/plain": [
              "<matplotlib.axes._subplots.AxesSubplot at 0x7f0d4ff60250>"
            ]
          },
          "metadata": {
            "tags": []
          },
          "execution_count": 8
        },
        {
          "output_type": "display_data",
          "data": {
            "image/png": "[encoded data removed]",
            "text/plain": [
              "<Figure size 432x288 with 1 Axes>"
            ]
          },
          "metadata": {
            "tags": [],
            "needs_background": "light"
          }
        }
      ]
    },
    {
      "cell_type": "code",
      "metadata": {
        "colab": {
          "base_uri": "https://localhost:8080/"
        },
        "id": "H0j0TkVVHU6M",
        "outputId": "9ec0ae2e-2ca4-49b7-99e9-499def5bc3d5"
      },
      "source": [
        "union_vs_greens = rawr_data[[\"Union\",\"Greens\"]]\n",
        "union_vs_greens[\"Union-Greens\"] = rawr_data[\"Union\"]-rawr_data[\"Greens\"]"
      ],
      "execution_count": 9,
      "outputs": [
        {
          "output_type": "stream",
          "text": [
            "/usr/local/lib/python3.7/dist-packages/ipykernel_launcher.py:2: SettingWithCopyWarning: \n",
            "A value is trying to be set on a copy of a slice from a DataFrame.\n",
            "Try using .loc[row_indexer,col_indexer] = value instead\n",
            "\n",
            "See the caveats in the documentation: https://pandas.pydata.org/pandas-docs/stable/user_guide/indexing.html#returning-a-view-versus-a-copy\n",
            "  \n"
          ],
          "name": "stderr"
        }
      ]
    },
    {
      "cell_type": "code",
      "metadata": {
        "colab": {
          "base_uri": "https://localhost:8080/",
          "height": 275
        },
        "id": "k4csRydUqs8b",
        "outputId": "e5b56e3b-d22f-43d1-e78f-3602f5ff85df"
      },
      "source": [
        "fig, ax1 = plt.subplots()\n",
        "\n",
        "ax2 = ax1.twinx()\n",
        "ax1.plot(data_ts[\"community_prediction\"], \"-b\")\n",
        "ax1.fill_between(data_ts[\"community_prediction\"].index, data_ts[\"Lower90\"], data_ts[\"Upper90\"], color='b', alpha=.1)\n",
        "ax2.plot(union_vs_greens[\"Union-Greens\"],\"-g\")\n",
        "\n",
        "ax1.set_ylabel('Prediction', color='b')\n",
        "ax2.set_ylabel('Polls Union - Greens', color='g')\n",
        "ax1.grid()\n",
        "fig.autofmt_xdate()\n",
        "plt.show()"
      ],
      "execution_count": 11,
      "outputs": [
        {
          "output_type": "display_data",
          "data": {
            "image/png": "[encoded data removed]",
            "text/plain": [
              "<Figure size 432x288 with 2 Axes>"
            ]
          },
          "metadata": {
            "tags": [],
            "needs_background": "light"
          }
        }
      ]
    }
  ]
}