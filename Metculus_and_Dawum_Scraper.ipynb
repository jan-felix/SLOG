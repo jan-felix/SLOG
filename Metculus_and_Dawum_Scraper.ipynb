{
  "nbformat": 4,
  "nbformat_minor": 0,
  "metadata": {
    "colab": {
      "name": "Metculus and Dawum Scraper.ipynb",
      "provenance": [],
      "authorship_tag": "ABX9TyN3YJrz0WhDxHge3ShgmQyb",
      "include_colab_link": true
    },
    "kernelspec": {
      "name": "python3",
      "display_name": "Python 3"
    },
    "language_info": {
      "name": "python"
    }
  },
  "cells": [
    {
      "cell_type": "markdown",
      "metadata": {
        "id": "view-in-github",
        "colab_type": "text"
      },
      "source": [
        "<a href=\"https://colab.research.google.com/github/jan-felix/SLOG/blob/master/Metculus_and_Dawum_Scraper.ipynb\" target=\"_parent\"><img src=\"https://colab.research.google.com/assets/colab-badge.svg\" alt=\"Open In Colab\"/></a>"
      ]
    },
    {
      "cell_type": "code",
      "metadata": {
        "colab": {
          "base_uri": "https://localhost:8080/"
        },
        "id": "2-CT-g0DR4Hm",
        "outputId": "803e80e4-bb5a-4bdd-9378-674221402534"
      },
      "source": [
        "!pip upgrade pandas\n",
        "!pip install --progress-bar off --quiet poetry\n",
        "!pip install --progress-bar off --quiet git+https://github.com/oughtinc/ergo.git"
      ],
      "execution_count": 179,
      "outputs": [
        {
          "output_type": "stream",
          "text": [
            "ERROR: unknown command \"upgrade\"\n",
            "  Installing build dependencies ... \u001b[?25l\u001b[?25hdone\n",
            "  Getting requirements to build wheel ... \u001b[?25l\u001b[?25hdone\n",
            "    Preparing wheel metadata ... \u001b[?25l\u001b[?25hdone\n",
            "  Building wheel for ergo (PEP 517) ... \u001b[?25l\u001b[?25hdone\n"
          ],
          "name": "stdout"
        }
      ]
    },
    {
      "cell_type": "code",
      "metadata": {
        "id": "R-56waqS-6oL"
      },
      "source": [
        "import pandas as pd\n",
        "import ergo\n",
        "import numpy as np\n",
        "import matplotlib.pyplot as plt\n",
        "from bs4 import BeautifulSoup\n",
        "import requests"
      ],
      "execution_count": 125,
      "outputs": []
    },
    {
      "cell_type": "code",
      "metadata": {
        "id": "oYHLd_UWSDlV"
      },
      "source": [
        "metaculus = ergo.Metaculus()"
      ],
      "execution_count": 2,
      "outputs": []
    },
    {
      "cell_type": "markdown",
      "metadata": {
        "id": "KRmrwrBy_qjL"
      },
      "source": [
        "# Get Predictions"
      ]
    },
    {
      "cell_type": "code",
      "metadata": {
        "id": "c0ZZ5K0YVH_J"
      },
      "source": [
        "my_pred = 0.5\n",
        "question_id = 6338\n",
        "question_name = \"CDU governs Germany after the 2021 elections\"\n",
        "#def metaculus_question_plot(question_id,question_name,my_pred):\n",
        "\n",
        "binary=\"yes\"\n",
        "\n",
        "#Retrieve and Format Data\n",
        "question = metaculus.get_question(question_id, name=question_name)\n",
        "title = question.data[\"title\"]\n",
        "n_predictions = question.data[\"number_of_predictions\"]\n",
        "data_hist = question.data[\"prediction_histogram\"]\n",
        "\n",
        "data_ts = pd.DataFrame(question.data[\"prediction_timeseries\"])\n",
        "data_ts.index = pd.to_datetime(data_ts[\"t\"],unit=\"s\")\n",
        "data_ts.index = pd.DatetimeIndex(data_ts.index.strftime('%Y-%m-%d'))\n",
        "data_ts.index.name = None\n",
        "data_ts = data_ts.drop(columns=\"t\")\n",
        "data_ts = data_ts.groupby(data_ts.index).last()\n",
        "\n",
        "hist_dist = pd.DataFrame(data_ts[\"distribution\"].tolist())\n",
        "hist_dist = hist_dist.drop(columns = \"num\")\n",
        "hist_dist.index = data_ts.index\n",
        "hist_dist = hist_dist.groupby(hist_dist.index).last()\n",
        "\n",
        "data_ts[\"Upper90\"] = 1.65*hist_dist[\"var\"]+data_ts[\"community_prediction\"]\n",
        "data_ts[\"Lower90\"] = -1.65*hist_dist[\"var\"]+data_ts[\"community_prediction\"]\n",
        "\n",
        "fig, axs = plt.subplots(2,1,figsize =(8,8),sharex=True)\n",
        "fig.suptitle(question_name)\n",
        "axs[0].plot(data_ts[\"community_prediction\"])\n",
        "axs[0].fill_between(data_ts[\"community_prediction\"].index, data_ts[\"Lower90\"], data_ts[\"Upper90\"], color='b', alpha=.1)\n",
        "axs[0].grid()\n",
        "axs[0].axhline(my_pred, linewidth=3, color='r')\n",
        "axs[1].plot(hist_dist[\"var\"])\n",
        "axs[1].grid()\n",
        "fig.autofmt_xdate()"
      ],
      "execution_count": 126,
      "outputs": []
    },
    {
      "cell_type": "markdown",
      "metadata": {
        "id": "L_dAO9fh_kI6"
      },
      "source": [
        "# Get recent Dawum Data"
      ]
    },
    {
      "cell_type": "code",
      "metadata": {
        "colab": {
          "base_uri": "https://localhost:8080/",
          "height": 225
        },
        "id": "_upfXP9n_TqJ",
        "outputId": "f3f12f8a-e8b9-49cd-b311-504b2ad53e90"
      },
      "source": [
        "table_dawum_verlauf = pd.read_html('https://dawum.de/Bundestag/#Umfrageverlauf')\n",
        "recent_polls = pd.DataFrame(table_dawum_verlauf[0]).set_index(0).dropna(axis=1)\n",
        "recent_polls.columns = [\"Current\",\"Change\"]\n",
        "recent_polls.index.name = None\n",
        "recent_polls"
      ],
      "execution_count": 128,
      "outputs": [
        {
          "output_type": "execute_result",
          "data": {
            "text/html": [
              "<div>\n",
              "<style scoped>\n",
              "    .dataframe tbody tr th:only-of-type {\n",
              "        vertical-align: middle;\n",
              "    }\n",
              "\n",
              "    .dataframe tbody tr th {\n",
              "        vertical-align: top;\n",
              "    }\n",
              "\n",
              "    .dataframe thead th {\n",
              "        text-align: right;\n",
              "    }\n",
              "</style>\n",
              "<table border=\"1\" class=\"dataframe\">\n",
              "  <thead>\n",
              "    <tr style=\"text-align: right;\">\n",
              "      <th></th>\n",
              "      <th>Current</th>\n",
              "      <th>Change</th>\n",
              "    </tr>\n",
              "  </thead>\n",
              "  <tbody>\n",
              "    <tr>\n",
              "      <th>CDU/CSU</th>\n",
              "      <td>25,3%</td>\n",
              "      <td>(−1,6)</td>\n",
              "    </tr>\n",
              "    <tr>\n",
              "      <th>Grüne</th>\n",
              "      <td>25,2%</td>\n",
              "      <td>(+1,7)</td>\n",
              "    </tr>\n",
              "    <tr>\n",
              "      <th>SPD</th>\n",
              "      <td>14,5%</td>\n",
              "      <td>(−0,6)</td>\n",
              "    </tr>\n",
              "    <tr>\n",
              "      <th>FDP</th>\n",
              "      <td>10,8%</td>\n",
              "      <td>(+0,4)</td>\n",
              "    </tr>\n",
              "    <tr>\n",
              "      <th>AfD</th>\n",
              "      <td>10,6%</td>\n",
              "      <td>(±0)</td>\n",
              "    </tr>\n",
              "    <tr>\n",
              "      <th>Linke</th>\n",
              "      <td>7,2%</td>\n",
              "      <td>(−0,2)</td>\n",
              "    </tr>\n",
              "  </tbody>\n",
              "</table>\n",
              "</div>"
            ],
            "text/plain": [
              "        Current  Change\n",
              "CDU/CSU   25,3%  (−1,6)\n",
              "Grüne     25,2%  (+1,7)\n",
              "SPD       14,5%  (−0,6)\n",
              "FDP       10,8%  (+0,4)\n",
              "AfD       10,6%    (±0)\n",
              "Linke      7,2%  (−0,2)"
            ]
          },
          "metadata": {
            "tags": []
          },
          "execution_count": 128
        }
      ]
    },
    {
      "cell_type": "code",
      "metadata": {
        "colab": {
          "base_uri": "https://localhost:8080/",
          "height": 195
        },
        "id": "8D5bH-5EA0Rz",
        "outputId": "efb50e77-22b8-4ed9-aaf0-a06ed869fd35"
      },
      "source": [
        "meta_poll_data = pd.DataFrame(table_dawum_verlauf[1]).set_index(0)\n",
        "meta_poll_data.columns = [\"Value\"]\n",
        "meta_poll_data.index.name = None\n",
        "meta_poll_data"
      ],
      "execution_count": 129,
      "outputs": [
        {
          "output_type": "execute_result",
          "data": {
            "text/html": [
              "<div>\n",
              "<style scoped>\n",
              "    .dataframe tbody tr th:only-of-type {\n",
              "        vertical-align: middle;\n",
              "    }\n",
              "\n",
              "    .dataframe tbody tr th {\n",
              "        vertical-align: top;\n",
              "    }\n",
              "\n",
              "    .dataframe thead th {\n",
              "        text-align: right;\n",
              "    }\n",
              "</style>\n",
              "<table border=\"1\" class=\"dataframe\">\n",
              "  <thead>\n",
              "    <tr style=\"text-align: right;\">\n",
              "      <th></th>\n",
              "      <th>Value</th>\n",
              "    </tr>\n",
              "  </thead>\n",
              "  <tbody>\n",
              "    <tr>\n",
              "      <th>Durchschnitt:</th>\n",
              "      <td>8 Wahlumfragen</td>\n",
              "    </tr>\n",
              "    <tr>\n",
              "      <th>Gewichtung:</th>\n",
              "      <td>letzter Befragungstag</td>\n",
              "    </tr>\n",
              "    <tr>\n",
              "      <th>Veröffentlichung:</th>\n",
              "      <td>15. - 30.04.</td>\n",
              "    </tr>\n",
              "    <tr>\n",
              "      <th>Befragte:</th>\n",
              "      <td>21013</td>\n",
              "    </tr>\n",
              "    <tr>\n",
              "      <th>Vergleich:</th>\n",
              "      <td>zum 23.04.</td>\n",
              "    </tr>\n",
              "  </tbody>\n",
              "</table>\n",
              "</div>"
            ],
            "text/plain": [
              "                                   Value\n",
              "Durchschnitt:             8 Wahlumfragen\n",
              "Gewichtung:        letzter Befragungstag\n",
              "Veröffentlichung:           15. - 30.04.\n",
              "Befragte:                          21013\n",
              "Vergleich:                    zum 23.04."
            ]
          },
          "metadata": {
            "tags": []
          },
          "execution_count": 129
        }
      ]
    },
    {
      "cell_type": "markdown",
      "metadata": {
        "id": "QZOKLtBH_dDB"
      },
      "source": [
        "# Scrape Dawum Chronik"
      ]
    },
    {
      "cell_type": "code",
      "metadata": {
        "id": "n0OgNUf2GN3V"
      },
      "source": [
        "URL = 'https://dawum.de/Bundestag/#Vergleich_mit_Wahlergebnis'\n",
        "page = requests.get(URL)\n",
        "#Get Soup\n",
        "soup = BeautifulSoup(page.content, 'html.parser')\n",
        "chronik = soup.find(id=\"Chronik\")\n",
        "table = chronik.find(\"div\",attrs={\"class\": \"table\"})\n",
        "#Create Table\n",
        "df = pd.DataFrame()\n",
        "rows = table.findAll(\"a\")\n",
        "table_list = []\n",
        "for row in rows: \n",
        "  cols = row.findAll(\"div\")\n",
        "  row_list = []\n",
        "  for div in cols:\n",
        "    row_list.append(div.get_text())\n",
        "  table_list.append(row_list)\n",
        "\n",
        "#Format Data \n",
        "rawr_data = pd.DataFrame(table_list)\n",
        "dates = rawr_data[0].str[0:10]\n",
        "institute =rawr_data[0].str[10:]\n",
        "\n",
        "rawr_data.columns = [\"Institute\",\"Union\",\"Greens\",\"SPD\",\"AFD\",\"FDP\",\"Linke\",\"Sonstige\"]\n",
        "\n",
        "institute = institute.str.replace('\\xad', '') \n",
        "institute = [s.strip() for s in institute]\n",
        "rawr_data[\"Institute\"] = institute\n",
        "\n",
        "rawr_data.index = pd.DatetimeIndex(pd.to_datetime(dates))\n",
        "rawr_data.index.name = None\n",
        "\n",
        "cols = [\"Union\",\"Greens\",\"SPD\",\"AFD\",\"FDP\",\"Linke\",\"Sonstige\"]\n",
        "rawr_data[cols] = rawr_data[cols].apply(lambda x: x.str.replace(',', '.').astype(float), axis=1)"
      ],
      "execution_count": 341,
      "outputs": []
    },
    {
      "cell_type": "code",
      "metadata": {
        "colab": {
          "base_uri": "https://localhost:8080/",
          "height": 280
        },
        "id": "H0j0TkVVHU6M",
        "outputId": "7eb46f3c-a344-4270-ba66-52e5618b4837"
      },
      "source": [
        "rawr_data[\"Union\"].plot()"
      ],
      "execution_count": 340,
      "outputs": [
        {
          "output_type": "execute_result",
          "data": {
            "text/plain": [
              "<matplotlib.axes._subplots.AxesSubplot at 0x7f5127033ed0>"
            ]
          },
          "metadata": {
            "tags": []
          },
          "execution_count": 340
        },
        {
          "output_type": "display_data",
          "data": {
            "image/png": "[encoded data removed]",
            "text/plain": [
              "<Figure size 432x288 with 1 Axes>"
            ]
          },
          "metadata": {
            "tags": [],
            "needs_background": "light"
          }
        }
      ]
    }
  ]
}