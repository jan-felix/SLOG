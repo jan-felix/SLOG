{
 "cells": [
  {
   "cell_type": "markdown",
   "metadata": {},
   "source": [
    "### Risk Simulator\n",
    "\n",
    "This is a small project I made to become invincible in the board game Risk. \n",
    "\n",
    "Questions the functions below answer: \n",
    "* What's my probability of winning if I have X number of troops to attack a country with Y amount of troops? What's the distribution of troops that are left if I would play this match n times?\n",
    "* Who is in a better position, the defender or the attacker?\n",
    "* With how many troops do I need to attack to win more likely than not, given that my oponent defends with X troops?\n",
    "* With how many troops do I need to defend to win more likely than not, given that my oponent attacks with X troops?\n",
    "\n",
    "<img src=\"pic.jpeg\">\n"
   ]
  },
  {
   "cell_type": "code",
   "execution_count": 1,
   "metadata": {},
   "outputs": [],
   "source": [
    "import pandas as pd\n",
    "import numpy as np\n",
    "import random\n",
    "import matplotlib.pyplot as plt\n",
    "from matplotlib import pyplot\n",
    "random.seed(1994)"
   ]
  },
  {
   "cell_type": "code",
   "execution_count": 2,
   "metadata": {},
   "outputs": [],
   "source": [
    "def throw_dices(dices): \n",
    "    \n",
    "    results = []\n",
    "    \n",
    "    for dice in range(0,dices):\n",
    "        results.append(random.randint(1,6))\n",
    "    \n",
    "    return results\n",
    "\n",
    "def battle(blue_starts, red_starts, red_ends = 2):\n",
    "    \n",
    "    '''This function calculates the statistics for a fight between red and blue until red loses or stops attacking at red_troops = red_ends\n",
    "    variables: \n",
    "    blue_starts = number of troops with which blue starts\n",
    "    red_starts = number of troops with which red starts\n",
    "    red_ends = number of troops at which red will stop to attack\n",
    "    '''\n",
    "    red_troops = red_starts\n",
    "    blue_troops = blue_starts\n",
    "    blue_dices = []\n",
    "    red_dices = []\n",
    "        \n",
    "    outcomes = pd.DataFrame(columns = [\"red_troops\",\"blue_troops\",\"winner\"]) \n",
    "     \n",
    "    #Both have enough troops for all dices\n",
    "    while (red_troops >= red_ends and red_troops >= 4 and blue_troops > 1): \n",
    "        #Throw dices\n",
    "        blue_dices = throw_dices(min(blue_troops,2))\n",
    "        red_dices = throw_dices(min(red_troops,3))\n",
    "        #Get best red results\n",
    "        highest_red = sorted(red_dices, reverse=True)[0]\n",
    "        second_red = sorted(red_dices, reverse=True)[1]\n",
    "        #Get best blue results \n",
    "        highest_blue = sorted(blue_dices, reverse=True)[0]\n",
    "        second_blue = sorted(blue_dices, reverse=True)[1]\n",
    "\n",
    "        #Three Outcome possibilities: Red wins 2, blue wins 2, red and blue both win 1 \n",
    "        if highest_blue>=highest_red and second_blue>=second_red: \n",
    "            red_troops = red_troops - 2 \n",
    "        elif (highest_blue >= highest_red and second_red > highest_blue) or (highest_red > highest_blue and second_blue >= second_red): \n",
    "            red_troops = red_troops - 1 \n",
    "            red_troops = red_troops - 1\n",
    "        else: \n",
    "            blue_troops = blue_troops -2\n",
    "\n",
    "    #Red can only throw 2 dices, blue can throw both    \n",
    "    while (red_troops >= red_ends and red_troops == 3 and blue_troops > 1): \n",
    "        #Throw dices\n",
    "        blue_dices = throw_dices(min(blue_troops,2))\n",
    "        red_dices = throw_dices(min(red_troops,2))\n",
    "        #Get best red results\n",
    "        highest_red = sorted(red_dices, reverse=True)[0]\n",
    "        second_red = sorted(red_dices, reverse=True)[1]\n",
    "        #Get best blue results \n",
    "        highest_blue = sorted(blue_dices, reverse=True)[0]\n",
    "        second_blue = sorted(blue_dices, reverse=True)[1]\n",
    "\n",
    "        #Three Outcome possibilities: Red wins 2, blue wins 2, red and blue both win 1 \n",
    "        if highest_blue>=highest_red and second_blue>=second_red: \n",
    "            red_troops = red_troops - 2 \n",
    "        elif (highest_blue >= highest_red and second_red > highest_blue) or (highest_red > highest_blue and second_blue >= second_red): \n",
    "            red_troops = red_troops - 1 \n",
    "            red_troops = red_troops - 1\n",
    "        else: \n",
    "            blue_troops = blue_troops -2    \n",
    "\n",
    "    #Red can only throw 1 dice, blue can throw both    \n",
    "    while (red_troops >= red_ends and red_troops == 2 and blue_troops > 1): \n",
    "        #Throw dices\n",
    "        blue_dices = throw_dices(min(blue_troops,2))\n",
    "        red_dices = throw_dices(min(red_troops,1))\n",
    "        #Get best red results\n",
    "        highest_red = sorted(red_dices, reverse=True)[0]\n",
    "\n",
    "        #Get best blue results \n",
    "        highest_blue = sorted(blue_dices, reverse=True)[0]\n",
    "        second_blue = sorted(blue_dices, reverse=True)[1]\n",
    "\n",
    "        #Two outcomes\n",
    "        if highest_blue>=highest_red: \n",
    "            red_troops = red_troops - 1\n",
    "        else: \n",
    "            blue_troops = blue_troops -1   \n",
    "\n",
    "\n",
    "\n",
    "    #Red can throw 3 dices, Blue can only throw 1 dice\n",
    "    while (red_troops >= red_ends and red_troops >= 4 and blue_troops == 1): \n",
    "        #Throw dices\n",
    "        blue_dices = throw_dices(min(blue_troops,1))\n",
    "        red_dices = throw_dices(min(red_troops,3))\n",
    "        #Get best red results\n",
    "        highest_red = sorted(red_dices, reverse=True)[0]\n",
    "        second_red = sorted(red_dices, reverse=True)[1]\n",
    "        #Get best blue results \n",
    "        highest_blue = sorted(blue_dices, reverse=True)[0]\n",
    "\n",
    "        #Two outcomes\n",
    "        if highest_blue>=highest_red: \n",
    "            red_troops = red_troops - 1 \n",
    "        else: \n",
    "            blue_troops = blue_troops -1\n",
    "\n",
    "    #Red can throw 2 dices, Blue can only throw 1 dice    \n",
    "    while (red_troops >= red_ends and red_troops == 3 and blue_troops == 1): \n",
    "        #Throw dices\n",
    "        blue_dices = throw_dices(min(blue_troops,2))\n",
    "        red_dices = throw_dices(min(red_troops,2))\n",
    "        #Get best red results\n",
    "        highest_red = sorted(red_dices, reverse=True)[0]\n",
    "        second_red = sorted(red_dices, reverse=True)[1]\n",
    "        #Get best blue results \n",
    "        highest_blue = sorted(blue_dices, reverse=True)[0]\n",
    "\n",
    "\n",
    "       #Two outcomes\n",
    "        if highest_blue>=highest_red: \n",
    "            red_troops = red_troops - 1 \n",
    "        else: \n",
    "            blue_troops = blue_troops -1    \n",
    "\n",
    "    #Red can throw 1 dice, Blue can only throw 1 dice    \n",
    "    while (red_troops >= red_ends and red_troops == 2 and blue_troops == 1): \n",
    "        #Throw dices\n",
    "        blue_dices = throw_dices(min(blue_troops,2))\n",
    "        red_dices = throw_dices(min(red_troops,1))\n",
    "        #Get best red results\n",
    "        highest_red = sorted(red_dices, reverse=True)[0]\n",
    "\n",
    "        #Get best blue results \n",
    "        highest_blue = sorted(blue_dices, reverse=True)[0]\n",
    "\n",
    "\n",
    "        #Two outcomes\n",
    "        if highest_blue>=highest_red: \n",
    "            red_troops = red_troops - 1 \n",
    "        else: \n",
    "            blue_troops = blue_troops -1\n",
    "\n",
    "    if blue_troops >= red_troops: \n",
    "        winner = \"blue\"\n",
    "    else: \n",
    "        winner = \"red\"\n",
    "\n",
    "    outcomes.loc[0,\"red_troops\"] = red_troops\n",
    "    outcomes.loc[0,\"blue_troops\"] = blue_troops\n",
    "    outcomes.loc[0,\"winner\"] = winner\n",
    "        \n",
    "    return outcomes \n",
    "\n",
    "\n",
    "def battle_stats(blue_starts, red_starts, iterations):\n",
    "    \n",
    "    outcomes = battle(blue_starts = blue_starts, red_starts = red_starts)\n",
    "    iterations = iterations -1 \n",
    "    for i in range(0,iterations):\n",
    "        outcomes = outcomes.append(battle(blue_starts = blue_starts, red_starts = red_starts),ignore_index =True)\n",
    "    \n",
    "    red_winning = outcomes[\"winner\"].str.count(\"red\").sum()\n",
    "    \n",
    "    return outcomes,red_winning\n",
    "\n",
    "\n",
    "def attack_numbers(blue_starts, red_range = range(0,15), iterations = 50):\n",
    "\n",
    "    probabilities = []\n",
    "    reds = []\n",
    "    outcome_dfs = []\n",
    "    for i in red_range:\n",
    "        reds.append(i)\n",
    "        probabilities.append(battle_stats(blue_starts = blue_starts , red_starts = i, iterations = iterations)[1]/iterations)\n",
    "        outcome_df = battle_stats(blue_starts = blue_starts , red_starts = i, iterations = iterations)[0]\n",
    "        \n",
    "        for row in outcome_df.index: \n",
    "            outcome_df[\"red_troop_start\"] = i\n",
    "            \n",
    "        outcome_dfs.append(outcome_df)\n",
    "\n",
    "    \n",
    "    all_outcomes = pd.concat(outcome_dfs)\n",
    "    \n",
    "    plt.plot(reds,probabilities)\n",
    "    plt.title(\"Red Winning Probabilities\")\n",
    "    plt.axhline(y=0.5, color='r', linestyle='-');\n",
    "    return all_outcomes\n",
    "\n",
    "def defense_numbers(red_starts, blue_range = range(0,15), iterations = 50):\n",
    "\n",
    "    probabilities = []\n",
    "    blues = []\n",
    "    outcome_dfs = []\n",
    "    for i in blue_range:\n",
    "        blues.append(i)\n",
    "        probability = battle_stats(blue_starts = i , red_starts = red_starts, iterations = iterations)[1]\n",
    "        probabilities.append(1-probability/iterations)\n",
    "        outcome_df = battle_stats(blue_starts = i , red_starts = red_starts, iterations = iterations)[0]\n",
    "        \n",
    "        for row in outcome_df.index: \n",
    "            outcome_df[\"blue_troop_start\"] = i\n",
    "            \n",
    "        outcome_dfs.append(outcome_df)\n",
    "\n",
    "    \n",
    "    all_outcomes = pd.concat(outcome_dfs)\n",
    "    \n",
    "    plt.plot(blues,probabilities)\n",
    "    plt.title(\"Blue Winning Probabilities\")\n",
    "    plt.axhline(y=0.5, color='r', linestyle='-');\n",
    "    return all_outcomes"
   ]
  },
  {
   "cell_type": "markdown",
   "metadata": {},
   "source": [
    "Use the first function to calculate the distribution of remaining troops and the winning probably of red after 100 matches of 10 red and 10 blue troops against each other.  "
   ]
  },
  {
   "cell_type": "code",
   "execution_count": 3,
   "metadata": {},
   "outputs": [
    {
     "data": {
      "image/png": "[encoded data removed]",
      "text/plain": [
       "<matplotlib.figure.Figure at 0x23cdb777390>"
      ]
     },
     "metadata": {
      "needs_background": "light"
     },
     "output_type": "display_data"
    }
   ],
   "source": [
    "n = 100\n",
    "blue = 10\n",
    "red = 10\n",
    "stats = battle_stats(blue_starts = blue , red_starts = red, iterations = n)[0]\n",
    "red_win_prob = battle_stats(blue_starts = blue , red_starts = red, iterations = n)[1]\n",
    "\n",
    "avg_red = stats[\"red_troops\"].mean()\n",
    "avg_blue = stats[\"blue_troops\"].mean()\n",
    "\n",
    "#bins = np.linspace(0,10,50)\n",
    "pyplot.hist(stats[\"red_troops\"], alpha=0.5, \n",
    "            #bins = bins, \n",
    "            color = \"red\", label='Red Troops \\nStart:%s' % (red),\n",
    "           align =\"mid\",\n",
    "           rwidth = 2)\n",
    "pyplot.hist(stats[\"blue_troops\"], alpha=0.5, \n",
    "            #bins = bins, \n",
    "            color = \"blue\", label='Blue Troops \\nStart:%s' %(blue),\n",
    "           align =\"mid\",\n",
    "           rwidth = 2)\n",
    "pyplot.legend(loc='upper right')\n",
    "pyplot.title(\"Red Wins in %s %% of cases \\n Average remaining troops: \\n Red: %s \\n Blue: %s\" % ((round((red_win_prob/n)*100,2),avg_red, avg_blue)))\n",
    "pyplot.show()"
   ]
  },
  {
   "cell_type": "markdown",
   "metadata": {},
   "source": [
    "Use the second function to see at which point winning an attack becomes more than likely when the defender has 10 troops in the attacked country. We get the probabilities from trying each combination 100 times. "
   ]
  },
  {
   "cell_type": "code",
   "execution_count": 4,
   "metadata": {},
   "outputs": [
    {
     "data": {
      "image/png": "[encoded data removed]",
      "text/plain": [
       "<matplotlib.figure.Figure at 0x23cd4112780>"
      ]
     },
     "metadata": {
      "needs_background": "light"
     },
     "output_type": "display_data"
    }
   ],
   "source": [
    "all_outcomes_attack = attack_numbers(blue_starts = 10, red_range = range(5,15),iterations = 100)"
   ]
  },
  {
   "cell_type": "markdown",
   "metadata": {},
   "source": [
    "Use the second function to see at which point winning as the defender becomes more than likely when the attacker attacks with 10 troops. We get the probabilities from trying each combination 100 times. "
   ]
  },
  {
   "cell_type": "code",
   "execution_count": 5,
   "metadata": {},
   "outputs": [
    {
     "data": {
      "image/png": "[encoded data removed]",
      "text/plain": [
       "<matplotlib.figure.Figure at 0x23cdef8bb70>"
      ]
     },
     "metadata": {
      "needs_background": "light"
     },
     "output_type": "display_data"
    }
   ],
   "source": [
    "all_outcomes_defense= defense_numbers(red_starts = 10, blue_range = range(5,15),iterations = 100)"
   ]
  }
 ],
 "metadata": {
  "kernelspec": {
   "display_name": "Python 3",
   "language": "python",
   "name": "python3"
  },
  "language_info": {
   "codemirror_mode": {
    "name": "ipython",
    "version": 3
   },
   "file_extension": ".py",
   "mimetype": "text/x-python",
   "name": "python",
   "nbconvert_exporter": "python",
   "pygments_lexer": "ipython3",
   "version": "3.6.2"
  }
 },
 "nbformat": 4,
 "nbformat_minor": 2
}
